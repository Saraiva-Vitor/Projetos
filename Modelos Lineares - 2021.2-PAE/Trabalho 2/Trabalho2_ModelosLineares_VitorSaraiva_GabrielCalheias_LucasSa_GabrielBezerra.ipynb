{
 "cells": [
  {
   "cell_type": "markdown",
   "metadata": {
    "id": "6yjIebq6oveZ"
   },
   "source": [
    "# **Trabalho 2 - Modelos Lineares**"
   ]
  },
  {
   "cell_type": "markdown",
   "metadata": {
    "id": "bECsiBxmd8d9"
   },
   "source": [
    "#**Grupo:**\n",
    "\n",
    "\n",
    "\n",
    "*   Gabriel Bezerra\n",
    "*   Gabriel Calheias\n",
    "*   Lucas Sá\n",
    "*   Vitor Saraiva\n",
    "\n",
    "\n",
    "\n",
    "\n",
    "\n",
    "\n"
   ]
  },
  {
   "cell_type": "markdown",
   "metadata": {
    "id": "W32WmjuShbPy"
   },
   "source": [
    "Bibliotecas Utilizadas:"
   ]
  },
  {
   "cell_type": "code",
   "execution_count": 1,
   "metadata": {
    "id": "RO0pckW2YBtI"
   },
   "outputs": [],
   "source": [
    "import pandas as pd\n",
    "import matplotlib.pyplot as plt\n",
    "import numpy as np\n",
    "import seaborn as sns\n",
    "import math"
   ]
  },
  {
   "cell_type": "markdown",
   "metadata": {
    "id": "EMdcHF9MeNnd"
   },
   "source": [
    "Iremos utilizar o seguinte dataset:\n",
    "*   https://www.kaggle.com/datasets/iamsouravbanerjee/covid19-dataset-world-and-continent-wise?select=Covid+Data+-+South+America.csv"
   ]
  },
  {
   "cell_type": "code",
   "execution_count": 2,
   "metadata": {
    "colab": {
     "base_uri": "https://localhost:8080/",
     "height": 598
    },
    "id": "0zVAkbETXn09",
    "outputId": "036e493c-b8b5-4eb7-9935-9071c3ac0f1a"
   },
   "outputs": [
    {
     "data": {
      "text/html": [
       "\n",
       "  <div id=\"df-8b938e50-095a-4f9b-9a03-95fe7bc41c54\">\n",
       "    <div class=\"colab-df-container\">\n",
       "      <div>\n",
       "<style scoped>\n",
       "    .dataframe tbody tr th:only-of-type {\n",
       "        vertical-align: middle;\n",
       "    }\n",
       "\n",
       "    .dataframe tbody tr th {\n",
       "        vertical-align: top;\n",
       "    }\n",
       "\n",
       "    .dataframe thead th {\n",
       "        text-align: right;\n",
       "    }\n",
       "</style>\n",
       "<table border=\"1\" class=\"dataframe\">\n",
       "  <thead>\n",
       "    <tr style=\"text-align: right;\">\n",
       "      <th></th>\n",
       "      <th>Country, Other</th>\n",
       "      <th>Total Cases</th>\n",
       "      <th>Total Deaths</th>\n",
       "      <th>Total Recovered</th>\n",
       "      <th>Active Cases</th>\n",
       "      <th>Serious / Critical Condition</th>\n",
       "      <th>Total Cases / 1M Population</th>\n",
       "      <th>Deaths / 1M Population</th>\n",
       "      <th>Total Tests</th>\n",
       "      <th>Tests / 1M Population</th>\n",
       "      <th>Population</th>\n",
       "    </tr>\n",
       "  </thead>\n",
       "  <tbody>\n",
       "    <tr>\n",
       "      <th>0</th>\n",
       "      <td>Brazil</td>\n",
       "      <td>21,069,017</td>\n",
       "      <td>589,277</td>\n",
       "      <td>20,173,064</td>\n",
       "      <td>306,676</td>\n",
       "      <td>8,318</td>\n",
       "      <td>98,277</td>\n",
       "      <td>2,749</td>\n",
       "      <td>57,095,219</td>\n",
       "      <td>266,322</td>\n",
       "      <td>214,384,223</td>\n",
       "    </tr>\n",
       "    <tr>\n",
       "      <th>1</th>\n",
       "      <td>Argentina</td>\n",
       "      <td>5,234,851</td>\n",
       "      <td>114,101</td>\n",
       "      <td>5,087,120</td>\n",
       "      <td>33,630</td>\n",
       "      <td>1,614</td>\n",
       "      <td>114,557</td>\n",
       "      <td>2,497</td>\n",
       "      <td>24,252,818</td>\n",
       "      <td>530,737</td>\n",
       "      <td>45,696,487</td>\n",
       "    </tr>\n",
       "    <tr>\n",
       "      <th>2</th>\n",
       "      <td>Colombia</td>\n",
       "      <td>4,936,052</td>\n",
       "      <td>125,782</td>\n",
       "      <td>4,774,661</td>\n",
       "      <td>35,609</td>\n",
       "      <td>542</td>\n",
       "      <td>95,776</td>\n",
       "      <td>2,441</td>\n",
       "      <td>24,920,135</td>\n",
       "      <td>483,534</td>\n",
       "      <td>51,537,524</td>\n",
       "    </tr>\n",
       "    <tr>\n",
       "      <th>3</th>\n",
       "      <td>Peru</td>\n",
       "      <td>2,164,380</td>\n",
       "      <td>198,891</td>\n",
       "      <td>NaN</td>\n",
       "      <td>NaN</td>\n",
       "      <td>1,071</td>\n",
       "      <td>64,558</td>\n",
       "      <td>5,932</td>\n",
       "      <td>17,377,197</td>\n",
       "      <td>518,321</td>\n",
       "      <td>33,525,950</td>\n",
       "    </tr>\n",
       "    <tr>\n",
       "      <th>4</th>\n",
       "      <td>Chile</td>\n",
       "      <td>1,645,820</td>\n",
       "      <td>37,293</td>\n",
       "      <td>1,602,703</td>\n",
       "      <td>5,824</td>\n",
       "      <td>463</td>\n",
       "      <td>85,212</td>\n",
       "      <td>1,931</td>\n",
       "      <td>21,081,270</td>\n",
       "      <td>1,091,483</td>\n",
       "      <td>19,314,333</td>\n",
       "    </tr>\n",
       "    <tr>\n",
       "      <th>5</th>\n",
       "      <td>Ecuador</td>\n",
       "      <td>505,860</td>\n",
       "      <td>32,559</td>\n",
       "      <td>443,880</td>\n",
       "      <td>29,421</td>\n",
       "      <td>759</td>\n",
       "      <td>28,156</td>\n",
       "      <td>1,812</td>\n",
       "      <td>1,798,012</td>\n",
       "      <td>100,078</td>\n",
       "      <td>17,966,183</td>\n",
       "    </tr>\n",
       "    <tr>\n",
       "      <th>6</th>\n",
       "      <td>Bolivia</td>\n",
       "      <td>496,032</td>\n",
       "      <td>18,616</td>\n",
       "      <td>448,704</td>\n",
       "      <td>28,712</td>\n",
       "      <td>220</td>\n",
       "      <td>41,806</td>\n",
       "      <td>1,569</td>\n",
       "      <td>2,349,096</td>\n",
       "      <td>197,983</td>\n",
       "      <td>11,865,122</td>\n",
       "    </tr>\n",
       "    <tr>\n",
       "      <th>7</th>\n",
       "      <td>Paraguay</td>\n",
       "      <td>459,524</td>\n",
       "      <td>16,120</td>\n",
       "      <td>441,169</td>\n",
       "      <td>2,235</td>\n",
       "      <td>40</td>\n",
       "      <td>63,485</td>\n",
       "      <td>2,227</td>\n",
       "      <td>1,810,321</td>\n",
       "      <td>250,104</td>\n",
       "      <td>7,238,263</td>\n",
       "    </tr>\n",
       "    <tr>\n",
       "      <th>8</th>\n",
       "      <td>Uruguay</td>\n",
       "      <td>387,299</td>\n",
       "      <td>6,046</td>\n",
       "      <td>379,573</td>\n",
       "      <td>1,680</td>\n",
       "      <td>13</td>\n",
       "      <td>111,029</td>\n",
       "      <td>1,733</td>\n",
       "      <td>3,480,276</td>\n",
       "      <td>997,706</td>\n",
       "      <td>3,488,277</td>\n",
       "    </tr>\n",
       "    <tr>\n",
       "      <th>9</th>\n",
       "      <td>Venezuela</td>\n",
       "      <td>352,055</td>\n",
       "      <td>4,261</td>\n",
       "      <td>336,034</td>\n",
       "      <td>11,760</td>\n",
       "      <td>681</td>\n",
       "      <td>12,423</td>\n",
       "      <td>150</td>\n",
       "      <td>3,359,014</td>\n",
       "      <td>118,532</td>\n",
       "      <td>28,338,512</td>\n",
       "    </tr>\n",
       "    <tr>\n",
       "      <th>10</th>\n",
       "      <td>French Guiana</td>\n",
       "      <td>38,021</td>\n",
       "      <td>232</td>\n",
       "      <td>9,995</td>\n",
       "      <td>27,794</td>\n",
       "      <td>27</td>\n",
       "      <td>123,444</td>\n",
       "      <td>753</td>\n",
       "      <td>381,027</td>\n",
       "      <td>1,237,097</td>\n",
       "      <td>308,001</td>\n",
       "    </tr>\n",
       "    <tr>\n",
       "      <th>11</th>\n",
       "      <td>Suriname</td>\n",
       "      <td>35,817</td>\n",
       "      <td>788</td>\n",
       "      <td>26,334</td>\n",
       "      <td>8,695</td>\n",
       "      <td>22</td>\n",
       "      <td>60,402</td>\n",
       "      <td>1,329</td>\n",
       "      <td>118,173</td>\n",
       "      <td>199,287</td>\n",
       "      <td>592,978</td>\n",
       "    </tr>\n",
       "    <tr>\n",
       "      <th>12</th>\n",
       "      <td>Guyana</td>\n",
       "      <td>28,831</td>\n",
       "      <td>703</td>\n",
       "      <td>24,756</td>\n",
       "      <td>3,372</td>\n",
       "      <td>26</td>\n",
       "      <td>36,442</td>\n",
       "      <td>889</td>\n",
       "      <td>294,242</td>\n",
       "      <td>371,923</td>\n",
       "      <td>791,137</td>\n",
       "    </tr>\n",
       "    <tr>\n",
       "      <th>13</th>\n",
       "      <td>Falkland Islands</td>\n",
       "      <td>67</td>\n",
       "      <td>NaN</td>\n",
       "      <td>63</td>\n",
       "      <td>4</td>\n",
       "      <td>NaN</td>\n",
       "      <td>18,601</td>\n",
       "      <td>NaN</td>\n",
       "      <td>7,531</td>\n",
       "      <td>2,090,783</td>\n",
       "      <td>3,602</td>\n",
       "    </tr>\n",
       "    <tr>\n",
       "      <th>14</th>\n",
       "      <td>Total:</td>\n",
       "      <td>37,353,626</td>\n",
       "      <td>1,144,669</td>\n",
       "      <td>35,468,721</td>\n",
       "      <td>740,236</td>\n",
       "      <td>13,796</td>\n",
       "      <td>NaN</td>\n",
       "      <td>NaN</td>\n",
       "      <td>NaN</td>\n",
       "      <td>NaN</td>\n",
       "      <td>NaN</td>\n",
       "    </tr>\n",
       "  </tbody>\n",
       "</table>\n",
       "</div>\n",
       "      <button class=\"colab-df-convert\" onclick=\"convertToInteractive('df-8b938e50-095a-4f9b-9a03-95fe7bc41c54')\"\n",
       "              title=\"Convert this dataframe to an interactive table.\"\n",
       "              style=\"display:none;\">\n",
       "        \n",
       "  <svg xmlns=\"http://www.w3.org/2000/svg\" height=\"24px\"viewBox=\"0 0 24 24\"\n",
       "       width=\"24px\">\n",
       "    <path d=\"M0 0h24v24H0V0z\" fill=\"none\"/>\n",
       "    <path d=\"M18.56 5.44l.94 2.06.94-2.06 2.06-.94-2.06-.94-.94-2.06-.94 2.06-2.06.94zm-11 1L8.5 8.5l.94-2.06 2.06-.94-2.06-.94L8.5 2.5l-.94 2.06-2.06.94zm10 10l.94 2.06.94-2.06 2.06-.94-2.06-.94-.94-2.06-.94 2.06-2.06.94z\"/><path d=\"M17.41 7.96l-1.37-1.37c-.4-.4-.92-.59-1.43-.59-.52 0-1.04.2-1.43.59L10.3 9.45l-7.72 7.72c-.78.78-.78 2.05 0 2.83L4 21.41c.39.39.9.59 1.41.59.51 0 1.02-.2 1.41-.59l7.78-7.78 2.81-2.81c.8-.78.8-2.07 0-2.86zM5.41 20L4 18.59l7.72-7.72 1.47 1.35L5.41 20z\"/>\n",
       "  </svg>\n",
       "      </button>\n",
       "      \n",
       "  <style>\n",
       "    .colab-df-container {\n",
       "      display:flex;\n",
       "      flex-wrap:wrap;\n",
       "      gap: 12px;\n",
       "    }\n",
       "\n",
       "    .colab-df-convert {\n",
       "      background-color: #E8F0FE;\n",
       "      border: none;\n",
       "      border-radius: 50%;\n",
       "      cursor: pointer;\n",
       "      display: none;\n",
       "      fill: #1967D2;\n",
       "      height: 32px;\n",
       "      padding: 0 0 0 0;\n",
       "      width: 32px;\n",
       "    }\n",
       "\n",
       "    .colab-df-convert:hover {\n",
       "      background-color: #E2EBFA;\n",
       "      box-shadow: 0px 1px 2px rgba(60, 64, 67, 0.3), 0px 1px 3px 1px rgba(60, 64, 67, 0.15);\n",
       "      fill: #174EA6;\n",
       "    }\n",
       "\n",
       "    [theme=dark] .colab-df-convert {\n",
       "      background-color: #3B4455;\n",
       "      fill: #D2E3FC;\n",
       "    }\n",
       "\n",
       "    [theme=dark] .colab-df-convert:hover {\n",
       "      background-color: #434B5C;\n",
       "      box-shadow: 0px 1px 3px 1px rgba(0, 0, 0, 0.15);\n",
       "      filter: drop-shadow(0px 1px 2px rgba(0, 0, 0, 0.3));\n",
       "      fill: #FFFFFF;\n",
       "    }\n",
       "  </style>\n",
       "\n",
       "      <script>\n",
       "        const buttonEl =\n",
       "          document.querySelector('#df-8b938e50-095a-4f9b-9a03-95fe7bc41c54 button.colab-df-convert');\n",
       "        buttonEl.style.display =\n",
       "          google.colab.kernel.accessAllowed ? 'block' : 'none';\n",
       "\n",
       "        async function convertToInteractive(key) {\n",
       "          const element = document.querySelector('#df-8b938e50-095a-4f9b-9a03-95fe7bc41c54');\n",
       "          const dataTable =\n",
       "            await google.colab.kernel.invokeFunction('convertToInteractive',\n",
       "                                                     [key], {});\n",
       "          if (!dataTable) return;\n",
       "\n",
       "          const docLinkHtml = 'Like what you see? Visit the ' +\n",
       "            '<a target=\"_blank\" href=https://colab.research.google.com/notebooks/data_table.ipynb>data table notebook</a>'\n",
       "            + ' to learn more about interactive tables.';\n",
       "          element.innerHTML = '';\n",
       "          dataTable['output_type'] = 'display_data';\n",
       "          await google.colab.output.renderOutput(dataTable, element);\n",
       "          const docLink = document.createElement('div');\n",
       "          docLink.innerHTML = docLinkHtml;\n",
       "          element.appendChild(docLink);\n",
       "        }\n",
       "      </script>\n",
       "    </div>\n",
       "  </div>\n",
       "  "
      ],
      "text/plain": [
       "      Country, Other Total Cases Total Deaths Total Recovered Active Cases  \\\n",
       "0             Brazil  21,069,017      589,277      20,173,064      306,676   \n",
       "1          Argentina   5,234,851      114,101       5,087,120       33,630   \n",
       "2           Colombia   4,936,052      125,782       4,774,661       35,609   \n",
       "3               Peru   2,164,380      198,891             NaN          NaN   \n",
       "4              Chile   1,645,820       37,293       1,602,703        5,824   \n",
       "5            Ecuador     505,860       32,559         443,880       29,421   \n",
       "6            Bolivia     496,032       18,616         448,704       28,712   \n",
       "7           Paraguay     459,524       16,120         441,169        2,235   \n",
       "8            Uruguay     387,299        6,046         379,573        1,680   \n",
       "9          Venezuela     352,055        4,261         336,034       11,760   \n",
       "10     French Guiana      38,021          232           9,995       27,794   \n",
       "11          Suriname      35,817          788          26,334        8,695   \n",
       "12            Guyana      28,831          703          24,756        3,372   \n",
       "13  Falkland Islands          67          NaN              63            4   \n",
       "14            Total:  37,353,626    1,144,669      35,468,721      740,236   \n",
       "\n",
       "   Serious / Critical Condition Total Cases / 1M Population  \\\n",
       "0                         8,318                      98,277   \n",
       "1                         1,614                     114,557   \n",
       "2                           542                      95,776   \n",
       "3                         1,071                      64,558   \n",
       "4                           463                      85,212   \n",
       "5                           759                      28,156   \n",
       "6                           220                      41,806   \n",
       "7                            40                      63,485   \n",
       "8                            13                     111,029   \n",
       "9                           681                      12,423   \n",
       "10                           27                     123,444   \n",
       "11                           22                      60,402   \n",
       "12                           26                      36,442   \n",
       "13                          NaN                      18,601   \n",
       "14                       13,796                         NaN   \n",
       "\n",
       "   Deaths / 1M Population Total Tests Tests / 1M Population   Population  \n",
       "0                   2,749  57,095,219               266,322  214,384,223  \n",
       "1                   2,497  24,252,818               530,737   45,696,487  \n",
       "2                   2,441  24,920,135               483,534   51,537,524  \n",
       "3                   5,932  17,377,197               518,321   33,525,950  \n",
       "4                   1,931  21,081,270             1,091,483   19,314,333  \n",
       "5                   1,812   1,798,012               100,078   17,966,183  \n",
       "6                   1,569   2,349,096               197,983   11,865,122  \n",
       "7                   2,227   1,810,321               250,104    7,238,263  \n",
       "8                   1,733   3,480,276               997,706    3,488,277  \n",
       "9                     150   3,359,014               118,532   28,338,512  \n",
       "10                    753     381,027             1,237,097      308,001  \n",
       "11                  1,329     118,173               199,287      592,978  \n",
       "12                    889     294,242               371,923      791,137  \n",
       "13                    NaN       7,531             2,090,783        3,602  \n",
       "14                    NaN         NaN                   NaN          NaN  "
      ]
     },
     "metadata": {},
     "output_type": "display_data"
    }
   ],
   "source": [
    "x = pd.read_csv(\"./CovidData-SouthAmerica.csv\")\n",
    "display(x)"
   ]
  },
  {
   "cell_type": "markdown",
   "metadata": {
    "id": "JSJF1pNtfnCc"
   },
   "source": [
    "Serão utilizadas as colunas \"Total Cases\", \"Total Deaths\" e \"Total Recovered\" e serão desconsideradas as linhas das \"Falkland Islands\" e \"Total\"."
   ]
  },
  {
   "cell_type": "code",
   "execution_count": 3,
   "metadata": {
    "colab": {
     "base_uri": "https://localhost:8080/",
     "height": 520
    },
    "id": "xNxt8zdSxe7o",
    "outputId": "63fc6589-95af-421e-9461-256848718ec5"
   },
   "outputs": [
    {
     "data": {
      "text/html": [
       "\n",
       "  <div id=\"df-81923cb0-b7d0-44dc-833e-ce0fb8fc73a6\">\n",
       "    <div class=\"colab-df-container\">\n",
       "      <div>\n",
       "<style scoped>\n",
       "    .dataframe tbody tr th:only-of-type {\n",
       "        vertical-align: middle;\n",
       "    }\n",
       "\n",
       "    .dataframe tbody tr th {\n",
       "        vertical-align: top;\n",
       "    }\n",
       "\n",
       "    .dataframe thead th {\n",
       "        text-align: right;\n",
       "    }\n",
       "</style>\n",
       "<table border=\"1\" class=\"dataframe\">\n",
       "  <thead>\n",
       "    <tr style=\"text-align: right;\">\n",
       "      <th></th>\n",
       "      <th>Country, Other</th>\n",
       "      <th>Total Cases</th>\n",
       "      <th>Total Deaths</th>\n",
       "      <th>Total Recovered</th>\n",
       "    </tr>\n",
       "  </thead>\n",
       "  <tbody>\n",
       "    <tr>\n",
       "      <th>0</th>\n",
       "      <td>Brazil</td>\n",
       "      <td>21,069,017</td>\n",
       "      <td>589,277</td>\n",
       "      <td>20,173,064</td>\n",
       "    </tr>\n",
       "    <tr>\n",
       "      <th>1</th>\n",
       "      <td>Argentina</td>\n",
       "      <td>5,234,851</td>\n",
       "      <td>114,101</td>\n",
       "      <td>5,087,120</td>\n",
       "    </tr>\n",
       "    <tr>\n",
       "      <th>2</th>\n",
       "      <td>Colombia</td>\n",
       "      <td>4,936,052</td>\n",
       "      <td>125,782</td>\n",
       "      <td>4,774,661</td>\n",
       "    </tr>\n",
       "    <tr>\n",
       "      <th>3</th>\n",
       "      <td>Peru</td>\n",
       "      <td>2,164,380</td>\n",
       "      <td>198,891</td>\n",
       "      <td>NaN</td>\n",
       "    </tr>\n",
       "    <tr>\n",
       "      <th>4</th>\n",
       "      <td>Chile</td>\n",
       "      <td>1,645,820</td>\n",
       "      <td>37,293</td>\n",
       "      <td>1,602,703</td>\n",
       "    </tr>\n",
       "    <tr>\n",
       "      <th>5</th>\n",
       "      <td>Ecuador</td>\n",
       "      <td>505,860</td>\n",
       "      <td>32,559</td>\n",
       "      <td>443,880</td>\n",
       "    </tr>\n",
       "    <tr>\n",
       "      <th>6</th>\n",
       "      <td>Bolivia</td>\n",
       "      <td>496,032</td>\n",
       "      <td>18,616</td>\n",
       "      <td>448,704</td>\n",
       "    </tr>\n",
       "    <tr>\n",
       "      <th>7</th>\n",
       "      <td>Paraguay</td>\n",
       "      <td>459,524</td>\n",
       "      <td>16,120</td>\n",
       "      <td>441,169</td>\n",
       "    </tr>\n",
       "    <tr>\n",
       "      <th>8</th>\n",
       "      <td>Uruguay</td>\n",
       "      <td>387,299</td>\n",
       "      <td>6,046</td>\n",
       "      <td>379,573</td>\n",
       "    </tr>\n",
       "    <tr>\n",
       "      <th>9</th>\n",
       "      <td>Venezuela</td>\n",
       "      <td>352,055</td>\n",
       "      <td>4,261</td>\n",
       "      <td>336,034</td>\n",
       "    </tr>\n",
       "    <tr>\n",
       "      <th>10</th>\n",
       "      <td>French Guiana</td>\n",
       "      <td>38,021</td>\n",
       "      <td>232</td>\n",
       "      <td>9,995</td>\n",
       "    </tr>\n",
       "    <tr>\n",
       "      <th>11</th>\n",
       "      <td>Suriname</td>\n",
       "      <td>35,817</td>\n",
       "      <td>788</td>\n",
       "      <td>26,334</td>\n",
       "    </tr>\n",
       "    <tr>\n",
       "      <th>12</th>\n",
       "      <td>Guyana</td>\n",
       "      <td>28,831</td>\n",
       "      <td>703</td>\n",
       "      <td>24,756</td>\n",
       "    </tr>\n",
       "    <tr>\n",
       "      <th>13</th>\n",
       "      <td>Falkland Islands</td>\n",
       "      <td>67</td>\n",
       "      <td>NaN</td>\n",
       "      <td>63</td>\n",
       "    </tr>\n",
       "    <tr>\n",
       "      <th>14</th>\n",
       "      <td>Total:</td>\n",
       "      <td>37,353,626</td>\n",
       "      <td>1,144,669</td>\n",
       "      <td>35,468,721</td>\n",
       "    </tr>\n",
       "  </tbody>\n",
       "</table>\n",
       "</div>\n",
       "      <button class=\"colab-df-convert\" onclick=\"convertToInteractive('df-81923cb0-b7d0-44dc-833e-ce0fb8fc73a6')\"\n",
       "              title=\"Convert this dataframe to an interactive table.\"\n",
       "              style=\"display:none;\">\n",
       "        \n",
       "  <svg xmlns=\"http://www.w3.org/2000/svg\" height=\"24px\"viewBox=\"0 0 24 24\"\n",
       "       width=\"24px\">\n",
       "    <path d=\"M0 0h24v24H0V0z\" fill=\"none\"/>\n",
       "    <path d=\"M18.56 5.44l.94 2.06.94-2.06 2.06-.94-2.06-.94-.94-2.06-.94 2.06-2.06.94zm-11 1L8.5 8.5l.94-2.06 2.06-.94-2.06-.94L8.5 2.5l-.94 2.06-2.06.94zm10 10l.94 2.06.94-2.06 2.06-.94-2.06-.94-.94-2.06-.94 2.06-2.06.94z\"/><path d=\"M17.41 7.96l-1.37-1.37c-.4-.4-.92-.59-1.43-.59-.52 0-1.04.2-1.43.59L10.3 9.45l-7.72 7.72c-.78.78-.78 2.05 0 2.83L4 21.41c.39.39.9.59 1.41.59.51 0 1.02-.2 1.41-.59l7.78-7.78 2.81-2.81c.8-.78.8-2.07 0-2.86zM5.41 20L4 18.59l7.72-7.72 1.47 1.35L5.41 20z\"/>\n",
       "  </svg>\n",
       "      </button>\n",
       "      \n",
       "  <style>\n",
       "    .colab-df-container {\n",
       "      display:flex;\n",
       "      flex-wrap:wrap;\n",
       "      gap: 12px;\n",
       "    }\n",
       "\n",
       "    .colab-df-convert {\n",
       "      background-color: #E8F0FE;\n",
       "      border: none;\n",
       "      border-radius: 50%;\n",
       "      cursor: pointer;\n",
       "      display: none;\n",
       "      fill: #1967D2;\n",
       "      height: 32px;\n",
       "      padding: 0 0 0 0;\n",
       "      width: 32px;\n",
       "    }\n",
       "\n",
       "    .colab-df-convert:hover {\n",
       "      background-color: #E2EBFA;\n",
       "      box-shadow: 0px 1px 2px rgba(60, 64, 67, 0.3), 0px 1px 3px 1px rgba(60, 64, 67, 0.15);\n",
       "      fill: #174EA6;\n",
       "    }\n",
       "\n",
       "    [theme=dark] .colab-df-convert {\n",
       "      background-color: #3B4455;\n",
       "      fill: #D2E3FC;\n",
       "    }\n",
       "\n",
       "    [theme=dark] .colab-df-convert:hover {\n",
       "      background-color: #434B5C;\n",
       "      box-shadow: 0px 1px 3px 1px rgba(0, 0, 0, 0.15);\n",
       "      filter: drop-shadow(0px 1px 2px rgba(0, 0, 0, 0.3));\n",
       "      fill: #FFFFFF;\n",
       "    }\n",
       "  </style>\n",
       "\n",
       "      <script>\n",
       "        const buttonEl =\n",
       "          document.querySelector('#df-81923cb0-b7d0-44dc-833e-ce0fb8fc73a6 button.colab-df-convert');\n",
       "        buttonEl.style.display =\n",
       "          google.colab.kernel.accessAllowed ? 'block' : 'none';\n",
       "\n",
       "        async function convertToInteractive(key) {\n",
       "          const element = document.querySelector('#df-81923cb0-b7d0-44dc-833e-ce0fb8fc73a6');\n",
       "          const dataTable =\n",
       "            await google.colab.kernel.invokeFunction('convertToInteractive',\n",
       "                                                     [key], {});\n",
       "          if (!dataTable) return;\n",
       "\n",
       "          const docLinkHtml = 'Like what you see? Visit the ' +\n",
       "            '<a target=\"_blank\" href=https://colab.research.google.com/notebooks/data_table.ipynb>data table notebook</a>'\n",
       "            + ' to learn more about interactive tables.';\n",
       "          element.innerHTML = '';\n",
       "          dataTable['output_type'] = 'display_data';\n",
       "          await google.colab.output.renderOutput(dataTable, element);\n",
       "          const docLink = document.createElement('div');\n",
       "          docLink.innerHTML = docLinkHtml;\n",
       "          element.appendChild(docLink);\n",
       "        }\n",
       "      </script>\n",
       "    </div>\n",
       "  </div>\n",
       "  "
      ],
      "text/plain": [
       "      Country, Other Total Cases Total Deaths Total Recovered\n",
       "0             Brazil  21,069,017      589,277      20,173,064\n",
       "1          Argentina   5,234,851      114,101       5,087,120\n",
       "2           Colombia   4,936,052      125,782       4,774,661\n",
       "3               Peru   2,164,380      198,891             NaN\n",
       "4              Chile   1,645,820       37,293       1,602,703\n",
       "5            Ecuador     505,860       32,559         443,880\n",
       "6            Bolivia     496,032       18,616         448,704\n",
       "7           Paraguay     459,524       16,120         441,169\n",
       "8            Uruguay     387,299        6,046         379,573\n",
       "9          Venezuela     352,055        4,261         336,034\n",
       "10     French Guiana      38,021          232           9,995\n",
       "11          Suriname      35,817          788          26,334\n",
       "12            Guyana      28,831          703          24,756\n",
       "13  Falkland Islands          67          NaN              63\n",
       "14            Total:  37,353,626    1,144,669      35,468,721"
      ]
     },
     "metadata": {},
     "output_type": "display_data"
    }
   ],
   "source": [
    "dataset = pd.read_csv(\"CovidData-SouthAmerica.csv\")\n",
    "newdataset = dataset.drop(columns = ['Active Cases', 'Serious / Critical Condition','Total Cases / 1M Population','Deaths / 1M Population','Total Tests','Tests / 1M Population','Population'])\n",
    "display(newdataset)\n",
    "\n",
    "TotalCases = dataset.loc[:,\"Total Cases\"]\n",
    "TotalDeaths = dataset.loc[:,\"Total Deaths\"]\n",
    "TotalRecovered = dataset.loc[:,\"Total Recovered\"]"
   ]
  },
  {
   "cell_type": "markdown",
   "metadata": {
    "id": "2qo3jN32xtwK"
   },
   "source": [
    "## **a) Faça o gráfico de dispersão bidimensional (XY) entre a variável y e cada uma das variáveis regressoras X1,..., Xp (p gráficos separados)**\n",
    "\n"
   ]
  },
  {
   "cell_type": "code",
   "execution_count": 4,
   "metadata": {
    "id": "Kzg5YfFiQBxU"
   },
   "outputs": [],
   "source": [
    "TotalCases = [21069017, 5234851, 4936052, 2164380, 1645820, 505860, 496032, 459524, 387299, 352055, 38021, 35817, 28831]\n",
    "TotalDeaths = [589277, 114101, 125782, 198891, 37293, 32559, 18616, 16120, 6046, 4261, 232, 788, 703]\n",
    "TotalRecovered = [20173064, 5087120, 4774661, 1602703, 0, 443880, 448704, 441169, 379573, 336034, 9995, 26334, 24756]"
   ]
  },
  {
   "cell_type": "code",
   "execution_count": 5,
   "metadata": {
    "colab": {
     "base_uri": "https://localhost:8080/",
     "height": 278
    },
    "id": "1PeWNY-WP-wh",
    "outputId": "58511a34-ed78-4361-a4be-b3904d2a21b9"
   },
   "outputs": [
    {
     "data": {
      "image/png": "[encoded data removed]",
      "text/plain": [
       "<Figure size 432x288 with 1 Axes>"
      ]
     },
     "metadata": {
      "needs_background": "light"
     },
     "output_type": "display_data"
    }
   ],
   "source": [
    "plt.scatter(TotalCases, TotalDeaths)\n",
    "plt.show()"
   ]
  },
  {
   "cell_type": "code",
   "execution_count": 6,
   "metadata": {
    "colab": {
     "base_uri": "https://localhost:8080/",
     "height": 289
    },
    "id": "z_3Ie0xY-xNd",
    "outputId": "061dc6cc-77db-4dfd-e5bc-3bb719c11e92"
   },
   "outputs": [
    {
     "data": {
      "image/png": "[encoded data removed]",
      "text/plain": [
       "<Figure size 432x288 with 1 Axes>"
      ]
     },
     "metadata": {
      "needs_background": "light"
     },
     "output_type": "display_data"
    }
   ],
   "source": [
    "plt.scatter(TotalCases, TotalRecovered)\n",
    "plt.show()"
   ]
  },
  {
   "cell_type": "markdown",
   "metadata": {
    "id": "aJT6rcrbD_x4"
   },
   "source": [
    "## **b) Estime a correlação entre a variável Y e cada uma das variáveis regressoras (ρ(Y,Xi)). Comente.**\n",
    "\n"
   ]
  },
  {
   "cell_type": "markdown",
   "metadata": {
    "id": "pAqUOUELhqBj"
   },
   "source": [
    "Nos dois casos temos uma relação de correlação positiva, com uma\n",
    "correlação forte em ambos os caso sendo a correlação entre \"Total Cases\" x \"Total Recovered\" ligeraimente melhor que \"Total Cases\" x \"Total Deaths\"."
   ]
  },
  {
   "cell_type": "code",
   "execution_count": 8,
   "metadata": {
    "colab": {
     "base_uri": "https://localhost:8080/"
    },
    "id": "uu1ZHTiPBcm4",
    "outputId": "3cc91446-53a4-46ca-cbe1-ff0c983d5471"
   },
   "outputs": [
    {
     "name": "stdout",
     "output_type": "stream",
     "text": [
      "Coeficiente de Correlação Total Cases x Total Deaths:  0.9674779430453133\n",
      "Coeficiente de Correlação Total Cases x Total Recovered:  0.9967712225619804\n"
     ]
    }
   ],
   "source": [
    "medY = np.mean(TotalCases)\n",
    "medX2 = np.mean(TotalRecovered)\n",
    "medX1 = np.mean(TotalDeaths)\n",
    "\n",
    "\n",
    "num, denx1, deny = 0, 0, 0\n",
    "num2, denx2 = 0, 0\n",
    "\n",
    "for i in range(0,12):\n",
    "  \n",
    "  num = num + (TotalDeaths[i] - medX1) * (TotalCases[i] - medY) \n",
    "  denx1 = denx1 + ((TotalDeaths[i] - medX1) ** 2)\n",
    "\n",
    "  num2 = num2 + (TotalRecovered[i] - medX2) * (TotalCases[i] -  medY)\n",
    "  denx2 = denx2 + ((TotalRecovered[i] - medX2) ** 2)\n",
    "  \n",
    "  deny = deny + ((TotalCases[i] - medY) ** 2)\n",
    "\n",
    "den = math.sqrt(denx1 * deny)\n",
    "den2 = math.sqrt(denx2 * deny)\n",
    "\n",
    "result1 = num / den\n",
    "result2 = num2 / den2\n",
    "\n",
    "print(\"Coeficiente de Correlação Total Cases x Total Deaths: \",result1)\n",
    "print(\"Coeficiente de Correlação Total Cases x Total Recovered: \", result2)"
   ]
  },
  {
   "cell_type": "markdown",
   "metadata": {
    "id": "z-TERmGeEaCD"
   },
   "source": [
    "# **c) Calcule o coeficiente de determinação R2(Y,Xi) entre a variável Y e cada uma das variáveis regressoras. Comente o resultado.**"
   ]
  },
  {
   "cell_type": "markdown",
   "metadata": {
    "id": "AklKqPiPiSU9"
   },
   "source": [
    "O coeficiente de determinação indica quanto o modelo foi capaz de explicar\n",
    "os dados, vemos que \"Total Recovered\" melhor explica os dados de \"Total Cases\", e \"Total Deaths\" explica ligeiramente menos."
   ]
  },
  {
   "cell_type": "code",
   "execution_count": 19,
   "metadata": {
    "colab": {
     "base_uri": "https://localhost:8080/"
    },
    "id": "j6rc0HLDEgTj",
    "outputId": "b5873edf-67e0-48cf-a9a7-343a9ce909d8"
   },
   "outputs": [
    {
     "name": "stdout",
     "output_type": "stream",
     "text": [
      "Coeficiente de Determinação Total Cases x Total Deaths:  0.9372661329975657\n",
      "Coeficiente de Determinação Total Cases x Total Recovered:  0.9935860440560893\n"
     ]
    }
   ],
   "source": [
    "Sxy1, Sx1, Sy, Sxx1, Syy = 0, 0, 0, 0, 0\n",
    "Sxy2, Sx2, Sxx2,= 0, 0, 0\n",
    "num1r2, num2r2, den1r2, den2r2 = 0, 0, 0, 0\n",
    "n = 13\n",
    "for i in range(0,n):\n",
    "  Sxy1 = Sxy1 + (TotalCases[i]*TotalDeaths[i])\n",
    "  Sx1 = Sx1 + TotalDeaths[i] \n",
    "  Sxx1 = Sxx1 + (TotalDeaths[i] ** 2)\n",
    "  \n",
    "  Sxy2 = Sxy2 + (TotalCases[i]*TotalRecovered[i])\n",
    "  Sx2 = Sx2 + TotalRecovered[i]\n",
    "  Sxx2 = Sxx2 + (TotalRecovered[i] ** 2)\n",
    "  \n",
    "  Sy = Sy + TotalCases[i]\n",
    "  Syy = Syy + (TotalCases[i] ** 2)\n",
    "\n",
    "num1r2 = ((n*Sxy1) - (Sx1*Sy))\n",
    "num2r2 = ((n*Sxy2) - (Sx2*Sy))\n",
    "den1r2 = (math.sqrt((n*Sxx1) - Sx1**2))*(math.sqrt((n*Syy) - Sy**2))\n",
    "den2r2 = (math.sqrt((n*Sxx2) - Sx2**2))*(math.sqrt((n*Syy) - Sy**2))\n",
    "\n",
    "print(\"Coeficiente de Determinação Total Cases x Total Deaths: \", (num1r2/den1r2)**2)\n",
    "print(\"Coeficiente de Determinação Total Cases x Total Recovered: \", (num2r2/den2r2)**2)"
   ]
  },
  {
   "cell_type": "markdown",
   "metadata": {
    "id": "1tUk8qRLGvIJ"
   },
   "source": [
    "## **d) Encontre o hiperplano de quadrados mínimos (estime β0, β1, ..., βp).**"
   ]
  },
  {
   "cell_type": "code",
   "execution_count": 18,
   "metadata": {
    "colab": {
     "base_uri": "https://localhost:8080/"
    },
    "id": "Z3d099fNHurc",
    "outputId": "9aec1fb4-02bc-4480-d71d-646cbd0aae1f"
   },
   "outputs": [
    {
     "name": "stdout",
     "output_type": "stream",
     "text": [
      "β0 = 130900.11366371159\n",
      "β1 = 4.537834420328977\n",
      "β2 = 0.9024992726023058\n"
     ]
    }
   ],
   "source": [
    "Y = np.array(TotalCases)\n",
    "X = np.array([[1,1,1,1,1,1,1,1,1,1,1,1,1], TotalDeaths, TotalRecovered])\n",
    "\n",
    "Xt = X.T\n",
    "Inversa = np.linalg.inv(np.matmul(X, Xt))\n",
    "mult1 = np.matmul(X, Y)\n",
    "\n",
    "β = np.matmul(Inversa, mult1)\n",
    "\n",
    "print(\"β0 =\", β[0])\n",
    "print(\"β1 =\", β[1])\n",
    "print(\"β2 =\", β[2])"
   ]
  },
  {
   "cell_type": "markdown",
   "metadata": {
    "id": "5cXzcFuRaKuk"
   },
   "source": [
    "# **e) Calcule os valores estimados de y (ou seja, ŷ) através do hiperplano estimado no item anterior.**"
   ]
  },
  {
   "cell_type": "code",
   "execution_count": 15,
   "metadata": {
    "colab": {
     "base_uri": "https://localhost:8080/"
    },
    "id": "z8bcXlv1pr66",
    "outputId": "37b81bc9-a2e6-43e1-c474-e97828da1dbe"
   },
   "outputs": [
    {
     "name": "stdout",
     "output_type": "stream",
     "text": [
      "Y Calculado:\n",
      "21011117.15353167\n",
      "5239793.65849831\n",
      "5010806.082144129\n",
      "2479872.8310548957\n",
      "300129.57270104013\n",
      "679248.8416779143\n",
      "620331.4728463008\n",
      "602204.7061141013\n",
      "500900.21696849563\n",
      "453506.26669837657\n",
      "140973.37147888797\n",
      "158242.34303163993\n"
     ]
    }
   ],
   "source": [
    "Ychapeu = []\n",
    "numr2, denr2 = 0, 0\n",
    "for i in range(0,12):\n",
    "  Ychapeu.append(β[0] + β[1]*TotalDeaths[i] + β[2]*TotalRecovered[i])\n",
    "\n",
    "print(\"Y Calculado:\")\n",
    "for j in Ychapeu:\n",
    "  print(j)"
   ]
  },
  {
   "cell_type": "markdown",
   "metadata": {
    "id": "fMJ4zvqQq2NW"
   },
   "source": [
    "# **f) Calcule os resíduos, ou seja, o erro de estimação y-ŷ.**"
   ]
  },
  {
   "cell_type": "code",
   "execution_count": 16,
   "metadata": {
    "colab": {
     "base_uri": "https://localhost:8080/"
    },
    "id": "rLOrPYMLq-EA",
    "outputId": "0714a883-3b08-4379-fbeb-b8dd158f0e02"
   },
   "outputs": [
    {
     "name": "stdout",
     "output_type": "stream",
     "text": [
      "Resíduos:\n",
      "57899.84646832943\n",
      "-4942.658498309553\n",
      "-74754.08214412909\n",
      "-315492.83105489565\n",
      "1345690.4272989598\n",
      "-173388.84167791426\n",
      "-124299.4728463008\n",
      "-142680.70611410134\n",
      "-113601.21696849563\n",
      "-101451.26669837657\n",
      "-102952.37147888797\n",
      "-122425.34303163993\n"
     ]
    }
   ],
   "source": [
    "residuos = []\n",
    "numr2, denr2 = 0, 0\n",
    "for i in range(0,12):\n",
    "  residuos.append(TotalCases[i] - Ychapeu[i])\n",
    "\n",
    "print(\"Resíduos:\")\n",
    "for j in residuos:\n",
    "  print(j)"
   ]
  },
  {
   "cell_type": "markdown",
   "metadata": {
    "id": "qmNQdV5q0ic9"
   },
   "source": [
    "# **g) Faça o histograma dos erros de estimação encontrados no item anterior. Comente sobre sua característica.**"
   ]
  },
  {
   "cell_type": "markdown",
   "metadata": {
    "id": "dOutA5SkSHbK"
   },
   "source": [
    "O maior valor no histograma é referente ao \"Peru\", que tem a ausência de dados sobre \"Total Recovered\". Já o segundo maior valor é referente ao \"Brazil\", que mesmo tendo uma relação de quase 1 para 1 em comparação do valor \"Total Cases\" e o \"Y Calculado\" ainda possuí uma diferença muito grande em relação aos demais."
   ]
  },
  {
   "cell_type": "code",
   "execution_count": 17,
   "metadata": {
    "colab": {
     "base_uri": "https://localhost:8080/",
     "height": 361
    },
    "id": "muDpqAS8jlO5",
    "outputId": "2fe62d85-9238-4c3b-bf8d-3203b8274a4f"
   },
   "outputs": [
    {
     "name": "stderr",
     "output_type": "stream",
     "text": [
      "/usr/local/lib/python3.7/dist-packages/seaborn/distributions.py:2619: FutureWarning: `distplot` is a deprecated function and will be removed in a future version. Please adapt your code to use either `displot` (a figure-level function with similar flexibility) or `histplot` (an axes-level function for histograms).\n",
      "  warnings.warn(msg, FutureWarning)\n"
     ]
    },
    {
     "data": {
      "text/plain": [
       "<matplotlib.axes._subplots.AxesSubplot at 0x7f44168f4990>"
      ]
     },
     "execution_count": 17,
     "metadata": {},
     "output_type": "execute_result"
    },
    {
     "data": {
      "image/png": "[encoded data removed]",
      "text/plain": [
       "<Figure size 432x288 with 1 Axes>"
      ]
     },
     "metadata": {
      "needs_background": "light"
     },
     "output_type": "display_data"
    }
   ],
   "source": [
    "sns.distplot(residuos, kde = True, rug = False, hist = True)"
   ]
  }
 ],
 "metadata": {
  "colab": {
   "collapsed_sections": [],
   "name": "Trabalho2_ModelosLineares_VitorSaraiva_GabrielCalheias_LucasSa_GabrielBezerra.ipynb",
   "provenance": []
  },
  "kernelspec": {
   "display_name": "Python 3",
   "language": "python",
   "name": "python3"
  },
  "language_info": {
   "codemirror_mode": {
    "name": "ipython",
    "version": 3
   },
   "file_extension": ".py",
   "mimetype": "text/x-python",
   "name": "python",
   "nbconvert_exporter": "python",
   "pygments_lexer": "ipython3",
   "version": "3.8.5"
  }
 },
 "nbformat": 4,
 "nbformat_minor": 1
}
