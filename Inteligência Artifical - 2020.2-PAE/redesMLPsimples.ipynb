{
 "cells": [
  {
   "cell_type": "markdown",
   "metadata": {},
   "source": [
    "No Jupyter Notebook vc executa uma célula com shift-enter \n",
    "\n",
    "Vamos usar uma rede neural muito simples via a framework keras para fazer uma tarefa de classificação.\n",
    "O problema que vamos tratar é bastante conhecido da comunidade de machine learning, e vai servir principalmente para nós concretizarmos o que foi visto em sala.\n",
    "É importante que tenham o ambiente de execução configurado, como foi sugerido no começo do curso.\n",
    "Nossa tarefa é projetar uma rede neural mlp de forma que ela consiga reconhecer dígitos escritos.\n",
    "Keras já vem com uma base de datos destes dígitos para treinamento, ou seja, um tensor com ( imagens de dígitos, identificaçao do dígito) chamada de mnist.\n",
    "Portanto a primeira coisa é importar no nosso código o keras ( façam isso onde a conexão de internet for boa )"
   ]
  },
  {
   "cell_type": "code",
   "execution_count": 105,
   "metadata": {},
   "outputs": [],
   "source": [
    "from keras.datasets import mnist\n",
    "import keras\n",
    "import numpy as np\n",
    "import os \n",
    "\n",
    "os.environ['KMP_DUPLICATE_LIB_OK']='True'\n"
   ]
  },
  {
   "cell_type": "markdown",
   "metadata": {},
   "source": [
    "\n",
    "A primeira etapa é obtermos os dados, como já foi dito o próprio keras tem estes dados que são muito usados por quem pratica machine learning.\n",
    "Os dados são de treinamento da rede e de teste da rede"
   ]
  },
  {
   "cell_type": "code",
   "execution_count": 106,
   "metadata": {},
   "outputs": [],
   "source": [
    "(train_images,train_labels),(test_images,test_labels) = mnist.load_data()"
   ]
  },
  {
   "cell_type": "markdown",
   "metadata": {},
   "source": [
    "Estes dados já estão bem arrumadinhos. Evidentemente quando estivermos lidando com dados reais há toda uma etapa de pre-processamento onde vamos verificar dados faltosos, dados fora de escala, dados errados etc..\n",
    "Vamos ver o jeitão destes dados."
   ]
  },
  {
   "cell_type": "code",
   "execution_count": 107,
   "metadata": {},
   "outputs": [
    {
     "name": "stdout",
     "output_type": "stream",
     "text": [
      "(60000, 28, 28)\n"
     ]
    }
   ],
   "source": [
    "print(train_images.shape)"
   ]
  },
  {
   "cell_type": "markdown",
   "metadata": {},
   "source": [
    "O primeiro componente mostra que de treino temos 60000 exemplos, cada um deles numa matriz de 28 x 28 ( que é a imagem ). Vamos olhar um,  plotando a imagem ,  o sexto exemplo:"
   ]
  },
  {
   "cell_type": "code",
   "execution_count": 108,
   "metadata": {},
   "outputs": [
    {
     "data": {
      "image/png": "[encoded data removed]",
      "text/plain": [
       "<Figure size 432x288 with 1 Axes>"
      ]
     },
     "metadata": {
      "needs_background": "light"
     },
     "output_type": "display_data"
    }
   ],
   "source": [
    "digito = train_images[5]\n",
    "%matplotlib inline\n",
    "import matplotlib.pyplot as plt\n",
    "plt.imshow(digito, cmap = plt.cm.binary)\n",
    "plt.show()"
   ]
  },
  {
   "cell_type": "markdown",
   "metadata": {},
   "source": [
    "Redes neurais lidam melhor com dados reais, e não inteiros como é o caso aqui. \n",
    "Vamos converter num formato mais adequado ao processamento de redes"
   ]
  },
  {
   "cell_type": "code",
   "execution_count": 109,
   "metadata": {},
   "outputs": [],
   "source": [
    "train_images = train_images.reshape((60000,28*28))\n",
    "train_images = train_images.astype('float32')/255\n",
    "test_image_copy = test_images\n",
    "test_images = test_images.reshape((10000,28*28))\n",
    "test_images = test_images.astype('float32')/255"
   ]
  },
  {
   "cell_type": "markdown",
   "metadata": {},
   "source": [
    "Agora vem a questão do projeto da rede neural.\n",
    "Decidimos que nosso modelo de machine learning será uma rede neural padrão ( mlp ).\n",
    "O que precisamos ainda decidir é o número de camadas que esta rede terá, e como serão os neurônios desta rede. Como isso teremos fechada a questão da arquitetura da rede.\n",
    "Nossa rede terá todos os neurônios conectados aos da próxima camada,  e todas as sinapses serão ajustadas numa camada, ou seja, uma típica MLP. Quem faz isso no keras é o modelo chamado sequencial."
   ]
  },
  {
   "cell_type": "code",
   "execution_count": 110,
   "metadata": {},
   "outputs": [],
   "source": [
    "from keras import models\n",
    "from keras import layers\n",
    "\n",
    "rede = models.Sequential()"
   ]
  },
  {
   "cell_type": "markdown",
   "metadata": {},
   "source": [
    "Agora é a questão da arquitetura propriamente dita : quantas camadas ( layers ) quantos neurônios por camada, que função de ativação estes neurônios vão usar.."
   ]
  },
  {
   "cell_type": "code",
   "execution_count": 111,
   "metadata": {},
   "outputs": [],
   "source": [
    "rede.add(layers.Dense(512,activation = 'sigmoid', input_shape = (28*28,) ))\n",
    "rede.add(layers.Dense(10,activation='softmax'))"
   ]
  },
  {
   "cell_type": "markdown",
   "metadata": {},
   "source": [
    "Então decidi por 1 camadas. A primeira (hidden) terá 512 neurônios com relu como função de ativação. E como é a primeira, portanto conectada ao input, informo como é um dado de entrada padrão : é 28x28\n",
    "A segunda camada é a de saída, ela tem 10 neurônios pois a tarefa é discriminar, identificar uma imagem 28x28 como sendo um entre os dígitos de 0  a 9 .  A última camada usa uma função de ativação do tipo softmax, esta função de ativação funciona como uma probabilidade, ou seja, a rede vai estar respondendo qual é a probabilidade de que a imagem vista é o número n. Como são 10 números , haverá 10 probabilidades e a maior é a resposta da rede.\n"
   ]
  },
  {
   "cell_type": "markdown",
   "metadata": {},
   "source": [
    "Arquitetura preparada, agora temos que cuidar do esquema de aprendizado, ou treinamento.\n",
    "Vimos que se usa uma função custo. Uma função que vai indicar se a rede está se saindo bem num dado, ou mal.\n",
    "Derivamos o algoritmo backpropagation usando uma função custo que era o erro médio quadrático da rede.\n",
    "Para usar o keras com rede nossa função custo será a função loss, a mais adequada para tarefas de classificação como a nossa \n",
    "é a de cross-entropia categorica.\n",
    "loss = 'categorical_crossentropy'\n",
    "E evidentemente precisamos de um \"processo\" através do qual usar esta informação da função custo para ajustar os pesos. Derivamos o famoso backpropagation em sala, que nada mais é que um cálculo de gradiente. Estamos então diante de um processo de otimização: achar as melhores sinapses que minimizam uma função custo.\n",
    "Em keras configuramos que otimizador usar.\n",
    "E temos que indicar também como otimizar, qual medida é  importante. A métrica"
   ]
  },
  {
   "cell_type": "code",
   "execution_count": 112,
   "metadata": {},
   "outputs": [],
   "source": [
    "rede.compile(optimizer='rmsprop',\n",
    "                loss='categorical_crossentropy',\n",
    "                metrics=['accuracy'])"
   ]
  },
  {
   "cell_type": "markdown",
   "metadata": {},
   "source": [
    "Falta um detalhe, precisamos tratar também as respostas. Decidimos que a rede vai respoder probabilidades, mas os dados de treino tem outra forma : (28x28, digito)\n",
    "Digito, nos dados , é um valor único. Mas a rede espera que sejam 10! A saída dela tem 10 neurônios, não 1"
   ]
  },
  {
   "cell_type": "code",
   "execution_count": 113,
   "metadata": {},
   "outputs": [
    {
     "name": "stdout",
     "output_type": "stream",
     "text": [
      "nos dados  , para esta imagem, a resposta é  2\n"
     ]
    },
    {
     "data": {
      "image/png": "[encoded data removed]",
      "text/plain": [
       "<Figure size 432x288 with 1 Axes>"
      ]
     },
     "metadata": {
      "needs_background": "light"
     },
     "output_type": "display_data"
    }
   ],
   "source": [
    "plt.imshow(digito, cmap = plt.cm.binary)\n",
    "print('nos dados  , para esta imagem, a resposta é ',train_labels[5])"
   ]
  },
  {
   "cell_type": "markdown",
   "metadata": {},
   "source": [
    "Isso é fácil de resolver no nosso caso, keras ajuda também.\n",
    "Vamos transformar os labels de dígitos para categorias"
   ]
  },
  {
   "cell_type": "code",
   "execution_count": 114,
   "metadata": {},
   "outputs": [],
   "source": [
    "from keras.utils import to_categorical\n",
    "\n",
    "train_labels = to_categorical(train_labels)\n",
    "test_labels = to_categorical(test_labels)"
   ]
  },
  {
   "cell_type": "code",
   "execution_count": 115,
   "metadata": {},
   "outputs": [
    {
     "name": "stdout",
     "output_type": "stream",
     "text": [
      "Agora nosso 2, virou  [0. 0. 1. 0. 0. 0. 0. 0. 0. 0.]\n"
     ]
    }
   ],
   "source": [
    "print('Agora nosso 2, virou ', train_labels[5])"
   ]
  },
  {
   "cell_type": "markdown",
   "metadata": {},
   "source": [
    "Que é o que a rede espera, 10 respostas para seus 10 neurônios na última camada."
   ]
  },
  {
   "cell_type": "markdown",
   "metadata": {},
   "source": [
    "Resta-nos preparar o treinamento da rede.\n",
    "Vamos empregar um esquema de treinamento conhecido com batch learning.\n",
    "No batch learning a rede não processa todo o conjunto de treinamento de uma vez, ela quebra em subconjuntos chamados batchs.\n",
    "Nossa rede vai usar batchs de tamanho 128.\n",
    "Vamos treinar só por 5 épocas, onde uma época é o correspondente a apresentação de todos os dados de treino"
   ]
  },
  {
   "cell_type": "code",
   "execution_count": 116,
   "metadata": {},
   "outputs": [
    {
     "name": "stdout",
     "output_type": "stream",
     "text": [
      "Epoch 1/20\n",
      "60000/60000 [==============================] - 4s 74us/step - loss: 0.4211 - accuracy: 0.8851\n",
      "Epoch 2/20\n",
      "60000/60000 [==============================] - 4s 72us/step - loss: 0.2346 - accuracy: 0.9319\n",
      "Epoch 3/20\n",
      "60000/60000 [==============================] - 4s 73us/step - loss: 0.1776 - accuracy: 0.9483\n",
      "Epoch 4/20\n",
      "60000/60000 [==============================] - 5s 75us/step - loss: 0.1395 - accuracy: 0.9593\n",
      "Epoch 5/20\n",
      "60000/60000 [==============================] - 5s 78us/step - loss: 0.1125 - accuracy: 0.9675\n",
      "Epoch 6/20\n",
      "60000/60000 [==============================] - 5s 78us/step - loss: 0.0937 - accuracy: 0.9725\n",
      "Epoch 7/20\n",
      "60000/60000 [==============================] - 5s 79us/step - loss: 0.0787 - accuracy: 0.9764\n",
      "Epoch 8/20\n",
      "60000/60000 [==============================] - 5s 80us/step - loss: 0.0673 - accuracy: 0.9806\n",
      "Epoch 9/20\n",
      "60000/60000 [==============================] - 5s 81us/step - loss: 0.0582 - accuracy: 0.9828\n",
      "Epoch 10/20\n",
      "60000/60000 [==============================] - 5s 81us/step - loss: 0.0503 - accuracy: 0.9852\n",
      "Epoch 11/20\n",
      "60000/60000 [==============================] - 5s 85us/step - loss: 0.0440 - accuracy: 0.9875\n",
      "Epoch 12/20\n",
      "60000/60000 [==============================] - 5s 82us/step - loss: 0.0382 - accuracy: 0.9888\n",
      "Epoch 13/20\n",
      "60000/60000 [==============================] - 5s 82us/step - loss: 0.0334 - accuracy: 0.9908\n",
      "Epoch 14/20\n",
      "60000/60000 [==============================] - 5s 82us/step - loss: 0.0290 - accuracy: 0.9924\n",
      "Epoch 15/20\n",
      "60000/60000 [==============================] - 5s 82us/step - loss: 0.0252 - accuracy: 0.9933\n",
      "Epoch 16/20\n",
      "60000/60000 [==============================] - 5s 82us/step - loss: 0.0221 - accuracy: 0.9944\n",
      "Epoch 17/20\n",
      "60000/60000 [==============================] - 5s 82us/step - loss: 0.0189 - accuracy: 0.9955\n",
      "Epoch 18/20\n",
      "60000/60000 [==============================] - 5s 82us/step - loss: 0.0165 - accuracy: 0.9961\n",
      "Epoch 19/20\n",
      "60000/60000 [==============================] - 5s 82us/step - loss: 0.0143 - accuracy: 0.9965\n",
      "Epoch 20/20\n",
      "60000/60000 [==============================] - 5s 82us/step - loss: 0.0124 - accuracy: 0.9973\n"
     ]
    }
   ],
   "source": [
    "treino = rede.fit(train_images, train_labels, epochs=20, batch_size=128)\n"
   ]
  },
  {
   "cell_type": "markdown",
   "metadata": {},
   "source": [
    "A rede foi treinada! Esperemos...\n",
    "O resultado do treino, no keras, fica num objeto chamado history.\n",
    "É um dicionário { chave, valor } "
   ]
  },
  {
   "cell_type": "code",
   "execution_count": 117,
   "metadata": {},
   "outputs": [],
   "source": [
    "historia = treino.history"
   ]
  },
  {
   "cell_type": "code",
   "execution_count": 118,
   "metadata": {},
   "outputs": [
    {
     "name": "stdout",
     "output_type": "stream",
     "text": [
      "dict_keys(['loss', 'accuracy'])\n"
     ]
    }
   ],
   "source": [
    "print(historia.keys())"
   ]
  },
  {
   "cell_type": "markdown",
   "metadata": {},
   "source": [
    "O objeto historia do treino tem 2 elementos : acuracia e custo. Vamos plotar :"
   ]
  },
  {
   "cell_type": "code",
   "execution_count": 119,
   "metadata": {},
   "outputs": [
    {
     "data": {
      "image/png": "[encoded data removed]",
      "text/plain": [
       "<Figure size 432x288 with 1 Axes>"
      ]
     },
     "metadata": {
      "needs_background": "light"
     },
     "output_type": "display_data"
    }
   ],
   "source": [
    "import matplotlib.pyplot as plt\n",
    "\n",
    "acc = treino.history['accuracy']\n",
    "\n",
    "loss = treino.history['loss']\n",
    "\n",
    "epochs = range(1, len(acc) + 1)\n",
    "\n",
    "# \"bo\" ponto azul\n",
    "#plt.plot(epochs, loss, 'bo', label='Treinamento custo')\n",
    "# b linha azul\"\n",
    "plt.plot(epochs, acc, 'b', label='Acuracia')\n",
    "plt.title('Custo e Acurácia')\n",
    "plt.xlabel('Epocas')\n",
    "plt.ylabel('Custo')\n",
    "plt.legend()\n",
    "\n",
    "plt.show()"
   ]
  },
  {
   "cell_type": "code",
   "execution_count": 120,
   "metadata": {},
   "outputs": [
    {
     "data": {
      "image/png": "[encoded data removed]",
      "text/plain": [
       "<Figure size 432x288 with 1 Axes>"
      ]
     },
     "metadata": {
      "needs_background": "light"
     },
     "output_type": "display_data"
    }
   ],
   "source": [
    "\n",
    "\n",
    "loss = treino.history['loss']\n",
    "\n",
    "epochs = range(1, len(acc) + 1)\n",
    "\n",
    "# \"bo\" ponto azul\n",
    "plt.plot(epochs, loss, 'b', label='Treinamento custo')\n",
    "# b linha azul\"\n",
    "#plt.plot(epochs, acc, 'b', label='Acuracia')\n",
    "plt.title('Custo ')\n",
    "plt.xlabel('Epocas')\n",
    "plt.ylabel('Custo')\n",
    "plt.legend()\n",
    "\n",
    "plt.show()"
   ]
  },
  {
   "cell_type": "markdown",
   "metadata": {},
   "source": [
    "Temos uma rede que aprendeu a reconhecer dígitos numa imagem.\n",
    "Agora ela pode ser usada em dados novos, nunca vistos por ela antes. Os dados de teste."
   ]
  },
  {
   "cell_type": "code",
   "execution_count": 121,
   "metadata": {},
   "outputs": [],
   "source": [
    "respostas = rede.predict(test_images )\n",
    "\n"
   ]
  },
  {
   "cell_type": "markdown",
   "metadata": {},
   "source": [
    "Para checar um dígito qualquer, vamos por a imagem de teste na forma que tínhamos no começo."
   ]
  },
  {
   "cell_type": "code",
   "execution_count": 126,
   "metadata": {},
   "outputs": [],
   "source": [
    "imagem_escolhida = 3"
   ]
  },
  {
   "cell_type": "code",
   "execution_count": 127,
   "metadata": {
    "scrolled": false
   },
   "outputs": [
    {
     "data": {
      "image/png": "[encoded data removed]",
      "text/plain": [
       "<Figure size 432x288 with 1 Axes>"
      ]
     },
     "metadata": {
      "needs_background": "light"
     },
     "output_type": "display_data"
    }
   ],
   "source": [
    "digito = test_image_copy[imagem_escolhida]\n",
    "%matplotlib inline\n",
    "import matplotlib.pyplot as plt\n",
    "plt.imshow(digito, cmap = plt.cm.binary)\n",
    "plt.show()"
   ]
  },
  {
   "cell_type": "code",
   "execution_count": 128,
   "metadata": {},
   "outputs": [
    {
     "name": "stdout",
     "output_type": "stream",
     "text": [
      "[9.9996746e-01 3.8903036e-09 1.4916031e-06 4.6784862e-07 8.0728512e-07\n",
      " 5.7675913e-07 7.2864605e-06 3.9566753e-06 3.0544194e-09 1.7926612e-05]\n"
     ]
    }
   ],
   "source": [
    "print(respostas[imagem_escolhida])"
   ]
  },
  {
   "cell_type": "code",
   "execution_count": 125,
   "metadata": {},
   "outputs": [
    {
     "name": "stdout",
     "output_type": "stream",
     "text": [
      "A maior probabilidade é:  0.999841\n",
      "Imagem corresponde ao número:  9\n"
     ]
    }
   ],
   "source": [
    "print('A maior probabilidade é: ',np.amax(respostas[imagem_escolhida]))\n",
    "print('Imagem corresponde ao número: ', np.argmax(respostas[imagem_escolhida]))"
   ]
  },
  {
   "cell_type": "markdown",
   "metadata": {},
   "source": [
    "TAREFAS :\n",
    "reduza o número de épocas, retreine a rede e discuta a acurácia nos dados de treino e de teste\n",
    "aumente muito o número de epocas (500), retreine, e discuta a acurácia nos dados de treino e teste.\n",
    "Modifique a arquitetura ( mais camadas, mais neuronios por camada ) retreine e discuta a acurácia nos dados de treino e teste.\n",
    "Entregar até 27/05 como relatório\n",
    "Vale um ponto na média"
   ]
  },
  {
   "cell_type": "code",
   "execution_count": null,
   "metadata": {
    "collapsed": true
   },
   "outputs": [],
   "source": []
  }
 ],
 "metadata": {
  "kernelspec": {
   "display_name": "Python 3",
   "language": "python",
   "name": "python3"
  },
  "language_info": {
   "codemirror_mode": {
    "name": "ipython",
    "version": 3
   },
   "file_extension": ".py",
   "mimetype": "text/x-python",
   "name": "python",
   "nbconvert_exporter": "python",
   "pygments_lexer": "ipython3",
   "version": "3.7.6"
  }
 },
 "nbformat": 4,
 "nbformat_minor": 2
}
