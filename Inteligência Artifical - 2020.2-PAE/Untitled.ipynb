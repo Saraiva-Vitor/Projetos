{
 "cells": [
  {
   "cell_type": "code",
   "execution_count": 1,
   "metadata": {},
   "outputs": [],
   "source": [
    "from agents import *"
   ]
  },
  {
   "cell_type": "code",
   "execution_count": 2,
   "metadata": {},
   "outputs": [],
   "source": [
    "class SondaMarciana(Agent):\n",
    "    def absorveu(self, thing):\n",
    "        print(\"Sonda : Absorveu uma bateria em {}.\".format(self.location))\n",
    "    def registrou(self, thing):\n",
    "        print(\"Sonda : Registrou um marciano em {}.\".format(self.location))"
   ]
  },
  {
   "cell_type": "code",
   "execution_count": 3,
   "metadata": {},
   "outputs": [
    {
     "name": "stdout",
     "output_type": "stream",
     "text": [
      "Can't find a valid program for SondaMarciana, falling back to default.\n"
     ]
    }
   ],
   "source": [
    "Spirit = SondaMarciana()"
   ]
  },
  {
   "cell_type": "code",
   "execution_count": 4,
   "metadata": {},
   "outputs": [],
   "source": [
    "class Baterias(Thing):\n",
    "    pass\n",
    "class Marciano(Thing):\n",
    "    pass"
   ]
  },
  {
   "cell_type": "code",
   "execution_count": 51,
   "metadata": {},
   "outputs": [],
   "source": [
    "class Marte(Environment):\n",
    "    def percept(self,agent):\n",
    "        #retornar uma lista de coisas que estao na proximidade da sonda\n",
    "        coisas = self.list_things_at(agent.location)\n",
    "        return coisas\n",
    "    def execute_action(self, agent, action):\n",
    "        #altera o estado do ambiente baseado no que faz o agente\"\n",
    "        if action == \"ir em frente\":\n",
    "            print('{} resolveu {} na posicao {}'.format( str(agent)[1:-1],action, agent.location) )\n",
    "            agent.vaiemfrente()\n",
    "        elif action == \"absorver\":\n",
    "            items = self.list_things_at(agent.location, tclass= Baterias)\n",
    "            if len(items)!=0:\n",
    "                if agent.absorveu(items[0]): # Sonta absorveu a bateria\n",
    "                    print('{} resolveu {} na posicao {}'.format( str(agent)[1:-1],action, agent.location) )\n",
    "                    self.delete_thing(items[0])# remove a bateria absorvida\n",
    "        elif action == \"registrar\":\n",
    "            items = self.list_things_at(agent.location, tclass= Marciano)\n",
    "            if len(items)!=0:\n",
    "                if agent.registrou(items[0]): # Sonta registrou marciano\n",
    "                    print('{} resolveu {} na posicao {}'.format( str(agent)[1:-1],action, agent.location) )\n",
    "                    self.delete_thing(items[0])# ignora marciano registrado\n",
    "            \n",
    "    def is_done(self):\n",
    "        no_edibles = not any( isinstance(thing, Baterias) or isinstance(thing, Marciano) for thing in self.things)\n",
    "        dead_agents = not any( agent.is_alive() for agent in self.agents)\n",
    "        return dead_agents or no_edibles"
   ]
  },
  {
   "cell_type": "code",
   "execution_count": 58,
   "metadata": {},
   "outputs": [],
   "source": [
    "class SondaMarciana(Agent):\n",
    "    location = 1\n",
    "    def vaiemfrente(self):\n",
    "        self.location +=1\n",
    "        \n",
    "    def absorveu(self, thing):\n",
    "        if isinstance(thing, Baterias):\n",
    "            return True\n",
    "        return False\n",
    "    def registrou(self, thing):\n",
    "        if isinstance(thing, Marciano):\n",
    "            return True\n",
    "        return False"
   ]
  },
  {
   "cell_type": "code",
   "execution_count": 59,
   "metadata": {},
   "outputs": [],
   "source": [
    "def program( percepts):\n",
    "    for p in percepts:\n",
    "        if isinstance(p, Baterias):\n",
    "            return 'absorver'\n",
    "        elif isinstance(p,Marciano):\n",
    "            return 'registrar'\n",
    "    return 'ir em frente'"
   ]
  },
  {
   "cell_type": "code",
   "execution_count": 60,
   "metadata": {},
   "outputs": [],
   "source": [
    "planicieMarciana = Marte()"
   ]
  },
  {
   "cell_type": "code",
   "execution_count": 61,
   "metadata": {},
   "outputs": [],
   "source": [
    "Spirit = SondaMarciana(program)"
   ]
  },
  {
   "cell_type": "code",
   "execution_count": 62,
   "metadata": {},
   "outputs": [],
   "source": [
    "bateria1 = Baterias()\n",
    "bateria2 = Baterias()\n",
    "marciano1 = Marciano()\n",
    "marciano2 = Marciano()\n",
    "\n",
    "planicieMarciana.add_thing(Spirit,1)\n",
    "planicieMarciana.add_thing(bateria1,5)\n",
    "planicieMarciana.add_thing(bateria2,9)\n",
    "planicieMarciana.add_thing(marciano1,12)\n",
    "planicieMarciana.add_thing(marciano2,14)\n",
    "\n"
   ]
  },
  {
   "cell_type": "code",
   "execution_count": 63,
   "metadata": {},
   "outputs": [
    {
     "name": "stdout",
     "output_type": "stream",
     "text": [
      "SondaMarciana resolveu ir em frente na posicao 1\n",
      "SondaMarciana resolveu ir em frente na posicao 2\n",
      "SondaMarciana resolveu ir em frente na posicao 3\n",
      "SondaMarciana resolveu ir em frente na posicao 4\n",
      "SondaMarciana resolveu absorver na posicao 5\n",
      "SondaMarciana resolveu ir em frente na posicao 5\n",
      "SondaMarciana resolveu ir em frente na posicao 6\n",
      "SondaMarciana resolveu ir em frente na posicao 7\n",
      "SondaMarciana resolveu ir em frente na posicao 8\n",
      "SondaMarciana resolveu absorver na posicao 9\n",
      "SondaMarciana resolveu ir em frente na posicao 9\n",
      "SondaMarciana resolveu ir em frente na posicao 10\n",
      "SondaMarciana resolveu ir em frente na posicao 11\n",
      "SondaMarciana resolveu registrar na posicao 12\n",
      "SondaMarciana resolveu ir em frente na posicao 12\n",
      "SondaMarciana resolveu ir em frente na posicao 13\n",
      "SondaMarciana resolveu registrar na posicao 14\n"
     ]
    }
   ],
   "source": [
    "planicieMarciana.run(20)"
   ]
  },
  {
   "cell_type": "code",
   "execution_count": null,
   "metadata": {},
   "outputs": [],
   "source": []
  },
  {
   "cell_type": "code",
   "execution_count": null,
   "metadata": {},
   "outputs": [],
   "source": []
  }
 ],
 "metadata": {
  "kernelspec": {
   "display_name": "Python 3",
   "language": "python",
   "name": "python3"
  },
  "language_info": {
   "codemirror_mode": {
    "name": "ipython",
    "version": 3
   },
   "file_extension": ".py",
   "mimetype": "text/x-python",
   "name": "python",
   "nbconvert_exporter": "python",
   "pygments_lexer": "ipython3",
   "version": "3.8.5"
  }
 },
 "nbformat": 4,
 "nbformat_minor": 4
}
